{
  "nbformat": 4,
  "nbformat_minor": 0,
  "metadata": {
    "colab": {
      "provenance": [],
      "collapsed_sections": []
    },
    "kernelspec": {
      "name": "python3",
      "display_name": "Python 3"
    },
    "language_info": {
      "name": "python"
    }
  },
  "cells": [
    {
      "cell_type": "code",
      "execution_count": 1,
      "metadata": {
        "colab": {
          "base_uri": "https://localhost:8080/"
        },
        "id": "kGonRwe6wA1R",
        "outputId": "f4f6e7e5-3c06-4b34-87ea-b7900a4072be"
      },
      "outputs": [
        {
          "output_type": "stream",
          "name": "stdout",
          "text": [
            "unzip:  cannot find or open /content/Flowers-Dataset.zip, /content/Flowers-Dataset.zip.zip or /content/Flowers-Dataset.zip.ZIP.\n"
          ]
        }
      ],
      "source": [
        "!unzip '/content/Flowers-Dataset.zip'"
      ]
    },
    {
      "cell_type": "markdown",
      "source": [
        "Image Augmentation "
      ],
      "metadata": {
        "id": "4AYSNSpz6zqm"
      }
    },
    {
      "cell_type": "code",
      "source": [
        "from tensorflow.keras.preprocessing.image import ImageDataGenerator"
      ],
      "metadata": {
        "id": "bD6wK4Fe7Ag1"
      },
      "execution_count": null,
      "outputs": []
    },
    {
      "cell_type": "code",
      "source": [
        "F_dgen=ImageDataGenerator(rescale=1./255,\n",
        "                          zoom_range=0.2,\n",
        "                          horizontal_flip=True)"
      ],
      "metadata": {
        "id": "HiMjjjkL76OQ"
      },
      "execution_count": null,
      "outputs": []
    },
    {
      "cell_type": "code",
      "source": [
        "Flowers= F_dgen.flow_from_directory('/content/flowers',\n",
        "                                  target_size=(64,64),\n",
        "                                  class_mode='categorical',\n",
        "                                  batch_size=100)"
      ],
      "metadata": {
        "id": "VRz-KcNd8kYG",
        "colab": {
          "base_uri": "https://localhost:8080/"
        },
        "outputId": "a891093b-ae7d-4382-c8ca-645b1169dc2f"
      },
      "execution_count": null,
      "outputs": [
        {
          "output_type": "stream",
          "name": "stdout",
          "text": [
            "Found 4317 images belonging to 5 classes.\n"
          ]
        }
      ]
    },
    {
      "cell_type": "markdown",
      "source": [
        "Create a CNN model and add layers"
      ],
      "metadata": {
        "id": "lKgPugHOCzEk"
      }
    },
    {
      "cell_type": "code",
      "source": [
        "from tensorflow.keras.models import Sequential\n",
        "from tensorflow.keras.layers import Convolution2D, MaxPooling2D, Flatten, Dense"
      ],
      "metadata": {
        "id": "-0xFtBHRDIUQ"
      },
      "execution_count": null,
      "outputs": []
    },
    {
      "cell_type": "code",
      "source": [
        "#Initializing the model\n",
        "model = Sequential()\n",
        "\n",
        "#convolution layer\n",
        "model.add(Convolution2D(32,(3,3),activation='relu',input_shape=(64,64,3))) \n",
        "\n",
        "#MaxPooling layer\n",
        "model.add(MaxPooling2D(pool_size=(2, 2))) \n",
        "\n",
        "#Flatten layer\n",
        "model.add(Flatten()) \n",
        "\n",
        "#Hidden layers\n",
        "model.add(Dense(350,activation='relu')) \n",
        "model.add(Dense(150,activation='relu'))\n",
        "\n",
        "#output layer\n",
        "model.add(Dense(5,activation='softmax'))"
      ],
      "metadata": {
        "id": "FH0k3N24DwVH"
      },
      "execution_count": null,
      "outputs": []
    },
    {
      "cell_type": "markdown",
      "source": [
        "Compile the model"
      ],
      "metadata": {
        "id": "rUgpbL2nGlxz"
      }
    },
    {
      "cell_type": "code",
      "source": [
        "model.compile(optimizer='adam',loss='categorical_crossentropy',metrics=['accuracy'])"
      ],
      "metadata": {
        "id": "W98wt_1TGpGC"
      },
      "execution_count": null,
      "outputs": []
    },
    {
      "cell_type": "markdown",
      "source": [
        "Fit the model"
      ],
      "metadata": {
        "id": "XIyS67mqG6pp"
      }
    },
    {
      "cell_type": "code",
      "source": [
        "model.fit_generator(Flowers,\n",
        "                    steps_per_epoch=len(Flowers),\n",
        "                    epochs=20,\n",
        "                    validation_data=Flowers,\n",
        "                    validation_steps=len(Flowers))"
      ],
      "metadata": {
        "id": "ysqHvQgKG9R2",
        "colab": {
          "base_uri": "https://localhost:8080/"
        },
        "outputId": "4394b748-b0b0-49bf-8fef-14c2be7dce6a"
      },
      "execution_count": null,
      "outputs": [
        {
          "output_type": "stream",
          "name": "stderr",
          "text": [
            "/usr/local/lib/python3.7/dist-packages/ipykernel_launcher.py:5: UserWarning: `Model.fit_generator` is deprecated and will be removed in a future version. Please use `Model.fit`, which supports generators.\n",
            "  \"\"\"\n"
          ]
        },
        {
          "output_type": "stream",
          "name": "stdout",
          "text": [
            "Epoch 1/20\n",
            "44/44 [==============================] - 116s 3s/step - loss: 1.7629 - accuracy: 0.3572 - val_loss: 1.1586 - val_accuracy: 0.5224\n",
            "Epoch 2/20\n",
            "44/44 [==============================] - 41s 941ms/step - loss: 1.1060 - accuracy: 0.5513 - val_loss: 0.9977 - val_accuracy: 0.6076\n",
            "Epoch 3/20\n",
            "44/44 [==============================] - 43s 976ms/step - loss: 0.9431 - accuracy: 0.6361 - val_loss: 0.8046 - val_accuracy: 0.7329\n",
            "Epoch 4/20\n",
            "44/44 [==============================] - 41s 933ms/step - loss: 0.7820 - accuracy: 0.7160 - val_loss: 0.6750 - val_accuracy: 0.7660\n",
            "Epoch 5/20\n",
            "44/44 [==============================] - 42s 954ms/step - loss: 0.6301 - accuracy: 0.7753 - val_loss: 0.5807 - val_accuracy: 0.7906\n",
            "Epoch 6/20\n",
            "44/44 [==============================] - 42s 960ms/step - loss: 0.4723 - accuracy: 0.8515 - val_loss: 0.3839 - val_accuracy: 0.8747\n",
            "Epoch 7/20\n",
            "44/44 [==============================] - 41s 935ms/step - loss: 0.3292 - accuracy: 0.9011 - val_loss: 0.2238 - val_accuracy: 0.9428\n",
            "Epoch 8/20\n",
            "44/44 [==============================] - 41s 929ms/step - loss: 0.2217 - accuracy: 0.9432 - val_loss: 0.1386 - val_accuracy: 0.9792\n",
            "Epoch 9/20\n",
            "44/44 [==============================] - 41s 935ms/step - loss: 0.1554 - accuracy: 0.9648 - val_loss: 0.1079 - val_accuracy: 0.9815\n",
            "Epoch 10/20\n",
            "44/44 [==============================] - 41s 943ms/step - loss: 0.0960 - accuracy: 0.9822 - val_loss: 0.0626 - val_accuracy: 0.9917\n",
            "Epoch 11/20\n",
            "44/44 [==============================] - 42s 964ms/step - loss: 0.0540 - accuracy: 0.9917 - val_loss: 0.0341 - val_accuracy: 0.9972\n",
            "Epoch 12/20\n",
            "44/44 [==============================] - 41s 945ms/step - loss: 0.0405 - accuracy: 0.9947 - val_loss: 0.0258 - val_accuracy: 0.9979\n",
            "Epoch 13/20\n",
            "44/44 [==============================] - 41s 933ms/step - loss: 0.0275 - accuracy: 0.9968 - val_loss: 0.0224 - val_accuracy: 0.9979\n",
            "Epoch 14/20\n",
            "44/44 [==============================] - 43s 974ms/step - loss: 0.0195 - accuracy: 0.9979 - val_loss: 0.0303 - val_accuracy: 0.9968\n",
            "Epoch 15/20\n",
            "44/44 [==============================] - 41s 938ms/step - loss: 0.0181 - accuracy: 0.9986 - val_loss: 0.0102 - val_accuracy: 0.9988\n",
            "Epoch 16/20\n",
            "44/44 [==============================] - 42s 953ms/step - loss: 0.0117 - accuracy: 0.9986 - val_loss: 0.0097 - val_accuracy: 0.9991\n",
            "Epoch 17/20\n",
            "44/44 [==============================] - 41s 934ms/step - loss: 0.0110 - accuracy: 0.9988 - val_loss: 0.0076 - val_accuracy: 0.9991\n",
            "Epoch 18/20\n",
            "44/44 [==============================] - 41s 934ms/step - loss: 0.0105 - accuracy: 0.9988 - val_loss: 0.0097 - val_accuracy: 0.9991\n",
            "Epoch 19/20\n",
            "44/44 [==============================] - 41s 936ms/step - loss: 0.0109 - accuracy: 0.9986 - val_loss: 0.0057 - val_accuracy: 0.9991\n",
            "Epoch 20/20\n",
            "44/44 [==============================] - 42s 951ms/step - loss: 0.0087 - accuracy: 0.9981 - val_loss: 0.0054 - val_accuracy: 0.9991\n"
          ]
        },
        {
          "output_type": "execute_result",
          "data": {
            "text/plain": [
              "<keras.callbacks.History at 0x7f1039e95290>"
            ]
          },
          "metadata": {},
          "execution_count": 33
        }
      ]
    },
    {
      "cell_type": "markdown",
      "source": [
        "Save the model"
      ],
      "metadata": {
        "id": "98FNAUxFHNgO"
      }
    },
    {
      "cell_type": "code",
      "source": [
        "model.save('flowers.h5')"
      ],
      "metadata": {
        "id": "zq5vGZn5HSRZ"
      },
      "execution_count": null,
      "outputs": []
    },
    {
      "cell_type": "markdown",
      "source": [
        "Testing the model "
      ],
      "metadata": {
        "id": "pGmTWMMqHbqx"
      }
    },
    {
      "cell_type": "code",
      "source": [
        "from tensorflow.keras.preprocessing import image\n",
        "import numpy as np"
      ],
      "metadata": {
        "id": "WCH59q99Hg4_"
      },
      "execution_count": null,
      "outputs": []
    },
    {
      "cell_type": "code",
      "source": [
        "img = image.load_img('/content/flowers/rose/11233672494_d8bf0a3dbf_n.jpg',target_size=(64,64)) \n",
        "x = image.img_to_array(img) \n",
        "x = np.expand_dims(x,axis=0) \n",
        "prediction = np.argmax(model.predict(x)) \n",
        "op = ['daisy','dandelion','rose','sunflower','tulip']\n",
        "op[prediction] "
      ],
      "metadata": {
        "id": "QavGALJwANRH",
        "colab": {
          "base_uri": "https://localhost:8080/",
          "height": 35
        },
        "outputId": "7eb19124-92bc-4b68-df7a-ad30815b96bf"
      },
      "execution_count": null,
      "outputs": [
        {
          "output_type": "execute_result",
          "data": {
            "text/plain": [
              "'rose'"
            ],
            "application/vnd.google.colaboratory.intrinsic+json": {
              "type": "string"
            }
          },
          "metadata": {},
          "execution_count": 36
        }
      ]
    },
    {
      "cell_type": "code",
      "source": [
        "img = image.load_img('/content/flowers/daisy/1286274236_1d7ac84efb_n.jpg',target_size=(64,64)) \n",
        "x = image.img_to_array(img) \n",
        "x = np.expand_dims(x,axis=0) \n",
        "prediction = np.argmax(model.predict(x)) \n",
        "op = ['daisy','dandelion','rose','sunflower','tulip']\n",
        "op[prediction] "
      ],
      "metadata": {
        "id": "33KK1C8RH7li",
        "colab": {
          "base_uri": "https://localhost:8080/",
          "height": 35
        },
        "outputId": "09b7b6fc-cdfd-41fd-a940-1ded5bca572c"
      },
      "execution_count": null,
      "outputs": [
        {
          "output_type": "execute_result",
          "data": {
            "text/plain": [
              "'daisy'"
            ],
            "application/vnd.google.colaboratory.intrinsic+json": {
              "type": "string"
            }
          },
          "metadata": {},
          "execution_count": 38
        }
      ]
    },
    {
      "cell_type": "code",
      "source": [
        "img = image.load_img('/content/tulip image.jpg',target_size=(64,64)) \n",
        "x = image.img_to_array(img) \n",
        "x = np.expand_dims(x,axis=0) \n",
        "prediction = np.argmax(model.predict(x)) \n",
        "op = ['daisy','dandelion','rose','sunflower','tulip']\n",
        "op[prediction] "
      ],
      "metadata": {
        "colab": {
          "base_uri": "https://localhost:8080/",
          "height": 35
        },
        "id": "-DiHdh18DNbr",
        "outputId": "b46db054-a766-4c7f-a8c3-146724d4b51b"
      },
      "execution_count": null,
      "outputs": [
        {
          "output_type": "execute_result",
          "data": {
            "text/plain": [
              "'tulip'"
            ],
            "application/vnd.google.colaboratory.intrinsic+json": {
              "type": "string"
            }
          },
          "metadata": {},
          "execution_count": 43
        }
      ]
    },
    {
      "cell_type": "code",
      "source": [
        "img = image.load_img('/content/sunflower  image.jpg',target_size=(64,64)) \n",
        "x = image.img_to_array(img) \n",
        "x = np.expand_dims(x,axis=0) \n",
        "prediction = np.argmax(model.predict(x)) \n",
        "op = ['daisy','dandelion','rose','sunflower','tulip']\n",
        "op[prediction] "
      ],
      "metadata": {
        "colab": {
          "base_uri": "https://localhost:8080/",
          "height": 35
        },
        "id": "eSof9RJsEOhW",
        "outputId": "f2c4d042-58f5-4481-8736-392139ca2544"
      },
      "execution_count": null,
      "outputs": [
        {
          "output_type": "execute_result",
          "data": {
            "text/plain": [
              "'sunflower'"
            ],
            "application/vnd.google.colaboratory.intrinsic+json": {
              "type": "string"
            }
          },
          "metadata": {},
          "execution_count": 44
        }
      ]
    },
    {
      "cell_type": "code",
      "source": [
        "img = image.load_img('/content/dandelion images.jpg',target_size=(64,64)) \n",
        "x = image.img_to_array(img) \n",
        "x = np.expand_dims(x,axis=0) \n",
        "prediction = np.argmax(model.predict(x)) \n",
        "op = ['daisy','dandelion','rose','sunflower','tulip']\n",
        "op[prediction] "
      ],
      "metadata": {
        "colab": {
          "base_uri": "https://localhost:8080/",
          "height": 35
        },
        "id": "_zikq6Z6FZtQ",
        "outputId": "a269a6bb-a4be-40e8-8a17-24e52e796363"
      },
      "execution_count": null,
      "outputs": [
        {
          "output_type": "execute_result",
          "data": {
            "text/plain": [
              "'dandelion'"
            ],
            "application/vnd.google.colaboratory.intrinsic+json": {
              "type": "string"
            }
          },
          "metadata": {},
          "execution_count": 46
        }
      ]
    },
    {
      "cell_type": "code",
      "source": [
        "img = image.load_img('/content/daisy image.jpg',target_size=(64,64)) \n",
        "x = image.img_to_array(img) \n",
        "x = np.expand_dims(x,axis=0) \n",
        "prediction = np.argmax(model.predict(x)) \n",
        "op = ['daisy','dandelion','rose','sunflower','tulip']\n",
        "op[prediction] "
      ],
      "metadata": {
        "colab": {
          "base_uri": "https://localhost:8080/",
          "height": 35
        },
        "id": "0eDxRHj5FfLg",
        "outputId": "9b144fa3-af6f-4109-a680-c2fd20d34346"
      },
      "execution_count": null,
      "outputs": [
        {
          "output_type": "execute_result",
          "data": {
            "text/plain": [
              "'rose'"
            ],
            "application/vnd.google.colaboratory.intrinsic+json": {
              "type": "string"
            }
          },
          "metadata": {},
          "execution_count": 49
        }
      ]
    }
  ]
}